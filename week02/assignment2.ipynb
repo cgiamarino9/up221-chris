{
 "cells": [
  {
   "cell_type": "code",
   "execution_count": 1,
   "id": "ee7c468e-a9e7-45b2-98a0-a0cf716785c2",
   "metadata": {},
   "outputs": [
    {
     "name": "stdout",
     "output_type": "stream",
     "text": [
      "assignment2\n"
     ]
    }
   ],
   "source": [
    "print('assignment2')"
   ]
  },
  {
   "cell_type": "code",
   "execution_count": 1,
   "id": "75fbc3bd-709f-49ce-a995-fc271576db67",
   "metadata": {},
   "outputs": [],
   "source": [
    "import pandas as pd\n",
    "import geopandas as gpd"
   ]
  },
  {
   "cell_type": "code",
   "execution_count": 2,
   "id": "ef542ce8-09c9-4ea7-91f3-6af0c842bee5",
   "metadata": {},
   "outputs": [
    {
     "name": "stderr",
     "output_type": "stream",
     "text": [
      "ERROR 1: PROJ: proj_create_from_database: Open of /opt/conda/share/proj failed\n"
     ]
    }
   ],
   "source": [
    "cleanstreets = gpd.read_file('data/cleanStreets_2017.geojson')"
   ]
  },
  {
   "cell_type": "code",
   "execution_count": 3,
   "id": "eeaea2da-5607-402c-ae8d-8879888d141d",
   "metadata": {},
   "outputs": [
    {
     "data": {
      "text/html": [
       "<div>\n",
       "<style scoped>\n",
       "    .dataframe tbody tr th:only-of-type {\n",
       "        vertical-align: middle;\n",
       "    }\n",
       "\n",
       "    .dataframe tbody tr th {\n",
       "        vertical-align: top;\n",
       "    }\n",
       "\n",
       "    .dataframe thead th {\n",
       "        text-align: right;\n",
       "    }\n",
       "</style>\n",
       "<table border=\"1\" class=\"dataframe\">\n",
       "  <thead>\n",
       "    <tr style=\"text-align: right;\">\n",
       "      <th></th>\n",
       "      <th>OBJECTID</th>\n",
       "      <th>FullName</th>\n",
       "      <th>LAPD_Grid</th>\n",
       "      <th>MIN_From_L</th>\n",
       "      <th>Code</th>\n",
       "      <th>GattedAlle</th>\n",
       "      <th>SegmentID</th>\n",
       "      <th>CS_RoundSc</th>\n",
       "      <th>CD</th>\n",
       "      <th>BulkyScore</th>\n",
       "      <th>LLScore</th>\n",
       "      <th>WdsScore</th>\n",
       "      <th>IDScore</th>\n",
       "      <th>Shape__Length</th>\n",
       "      <th>geometry</th>\n",
       "    </tr>\n",
       "  </thead>\n",
       "  <tbody>\n",
       "    <tr>\n",
       "      <th>0</th>\n",
       "      <td>1</td>\n",
       "      <td></td>\n",
       "      <td>101</td>\n",
       "      <td>0</td>\n",
       "      <td>0</td>\n",
       "      <td>No</td>\n",
       "      <td>1</td>\n",
       "      <td>1</td>\n",
       "      <td>1</td>\n",
       "      <td>1</td>\n",
       "      <td>1</td>\n",
       "      <td>1</td>\n",
       "      <td>1</td>\n",
       "      <td>2.983536</td>\n",
       "      <td>LINESTRING (-118.24250 34.06576, -118.24252 34...</td>\n",
       "    </tr>\n",
       "    <tr>\n",
       "      <th>1</th>\n",
       "      <td>2</td>\n",
       "      <td></td>\n",
       "      <td>101</td>\n",
       "      <td>0</td>\n",
       "      <td>0</td>\n",
       "      <td>No</td>\n",
       "      <td>2</td>\n",
       "      <td>1</td>\n",
       "      <td>1</td>\n",
       "      <td>1</td>\n",
       "      <td>1</td>\n",
       "      <td>1</td>\n",
       "      <td>1</td>\n",
       "      <td>42.521183</td>\n",
       "      <td>LINESTRING (-118.24096 34.06751, -118.24111 34...</td>\n",
       "    </tr>\n",
       "    <tr>\n",
       "      <th>2</th>\n",
       "      <td>3</td>\n",
       "      <td></td>\n",
       "      <td>111</td>\n",
       "      <td>0</td>\n",
       "      <td>0</td>\n",
       "      <td>No</td>\n",
       "      <td>3</td>\n",
       "      <td>1</td>\n",
       "      <td>14</td>\n",
       "      <td>1</td>\n",
       "      <td>1</td>\n",
       "      <td>1</td>\n",
       "      <td>1</td>\n",
       "      <td>2.307199</td>\n",
       "      <td>LINESTRING (-118.23920 34.05531, -118.23919 34...</td>\n",
       "    </tr>\n",
       "    <tr>\n",
       "      <th>3</th>\n",
       "      <td>4</td>\n",
       "      <td></td>\n",
       "      <td>111</td>\n",
       "      <td>0</td>\n",
       "      <td>0</td>\n",
       "      <td>No</td>\n",
       "      <td>5</td>\n",
       "      <td>1</td>\n",
       "      <td>14</td>\n",
       "      <td>1</td>\n",
       "      <td>1</td>\n",
       "      <td>1</td>\n",
       "      <td>1</td>\n",
       "      <td>84.871168</td>\n",
       "      <td>LINESTRING (-118.23807 34.05659, -118.23748 34...</td>\n",
       "    </tr>\n",
       "    <tr>\n",
       "      <th>4</th>\n",
       "      <td>5</td>\n",
       "      <td></td>\n",
       "      <td>111</td>\n",
       "      <td>0</td>\n",
       "      <td>0</td>\n",
       "      <td>No</td>\n",
       "      <td>7</td>\n",
       "      <td>1</td>\n",
       "      <td>1</td>\n",
       "      <td>1</td>\n",
       "      <td>1</td>\n",
       "      <td>1</td>\n",
       "      <td>1</td>\n",
       "      <td>19.283651</td>\n",
       "      <td>LINESTRING (-118.24234 34.06571, -118.24250 34...</td>\n",
       "    </tr>\n",
       "  </tbody>\n",
       "</table>\n",
       "</div>"
      ],
      "text/plain": [
       "   OBJECTID FullName  LAPD_Grid  MIN_From_L Code GattedAlle  SegmentID  \\\n",
       "0         1                 101           0    0         No          1   \n",
       "1         2                 101           0    0         No          2   \n",
       "2         3                 111           0    0         No          3   \n",
       "3         4                 111           0    0         No          5   \n",
       "4         5                 111           0    0         No          7   \n",
       "\n",
       "   CS_RoundSc  CD  BulkyScore  LLScore  WdsScore  IDScore  Shape__Length  \\\n",
       "0           1   1           1        1         1        1       2.983536   \n",
       "1           1   1           1        1         1        1      42.521183   \n",
       "2           1  14           1        1         1        1       2.307199   \n",
       "3           1  14           1        1         1        1      84.871168   \n",
       "4           1   1           1        1         1        1      19.283651   \n",
       "\n",
       "                                            geometry  \n",
       "0  LINESTRING (-118.24250 34.06576, -118.24252 34...  \n",
       "1  LINESTRING (-118.24096 34.06751, -118.24111 34...  \n",
       "2  LINESTRING (-118.23920 34.05531, -118.23919 34...  \n",
       "3  LINESTRING (-118.23807 34.05659, -118.23748 34...  \n",
       "4  LINESTRING (-118.24234 34.06571, -118.24250 34...  "
      ]
     },
     "execution_count": 3,
     "metadata": {},
     "output_type": "execute_result"
    }
   ],
   "source": [
    "cleanstreets.head()"
   ]
  },
  {
   "cell_type": "code",
   "execution_count": null,
   "id": "703984d4-27ce-46c4-bafe-4d073b6c1227",
   "metadata": {},
   "outputs": [],
   "source": []
  }
 ],
 "metadata": {
  "kernelspec": {
   "display_name": "Python 3 (ipykernel)",
   "language": "python",
   "name": "python3"
  },
  "language_info": {
   "codemirror_mode": {
    "name": "ipython",
    "version": 3
   },
   "file_extension": ".py",
   "mimetype": "text/x-python",
   "name": "python",
   "nbconvert_exporter": "python",
   "pygments_lexer": "ipython3",
   "version": "3.11.7"
  }
 },
 "nbformat": 4,
 "nbformat_minor": 5
}
